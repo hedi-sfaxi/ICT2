{
 "cells": [
  {
   "cell_type": "code",
   "execution_count": 1,
   "metadata": {},
   "outputs": [],
   "source": [
    "import numpy as np\n",
    "import os\n",
    "import re\n",
    "import scipy.io as scio\n",
    "\n",
    "import numpy as np\n",
    "import pandas as pd\n",
    "\n",
    "import cwru"
   ]
  },
  {
   "cell_type": "code",
   "execution_count": 2,
   "metadata": {},
   "outputs": [
    {
     "name": "stdout",
     "output_type": "stream",
     "text": [
      "Loaded 4 segments.\n"
     ]
    }
   ],
   "source": [
    "base_path = \"CWRU\"  # Replace with the path to your dataset\n",
    "segment_length = 1024  # Adjust the segment length as needed\n",
    "data = cwru.load_data(base_path, segment_length)\n",
    "\n",
    "print(f\"Loaded {len(data)} segments.\")"
   ]
  },
  {
   "cell_type": "code",
   "execution_count": 3,
   "metadata": {},
   "outputs": [],
   "source": [
    "import pickle\n",
    "\n",
    "with open('cwru_data.pkl', 'wb') as file:\n",
    "    # Serialize the dictionary and write to the file\n",
    "    pickle.dump(data, file)"
   ]
  },
  {
   "cell_type": "code",
   "execution_count": 4,
   "metadata": {},
   "outputs": [
    {
     "name": "stdout",
     "output_type": "stream",
     "text": [
      "{'12DriveEndFault': (array([[-0.0027614 , -0.09632403,  0.11370459, ...,  0.16146052,\n",
      "         0.09486212, -0.12572479],\n",
      "       [ 0.05051732,  0.19589676, -0.07520746, ..., -0.14992763,\n",
      "        -0.11078076,  0.14667892],\n",
      "       [ 0.13076028, -0.07000954, -0.04239557, ..., -0.04093365,\n",
      "         0.03443625,  0.10769449],\n",
      "       ...,\n",
      "       [ 0.04661888,  0.11532895,  0.05863908, ..., -0.05555281,\n",
      "         0.24300295,  0.25810942],\n",
      "       [-0.06205022, -0.19199832, -0.10688232, ...,  0.21084079,\n",
      "         0.30294153,  0.3024542 ],\n",
      "       [ 0.17607968,  0.07943078, -0.00438575, ...,  1.3100393 ,\n",
      "         0.48438156, -0.20320635]], dtype=float32), array([ 1,  1,  1, ..., 11, 11, 11])), '12FanEndFault': (array([[-0.16812035,  0.1812776 ,  0.04434479, ..., -0.09307533,\n",
      "        -0.01884248, -0.01640595],\n",
      "       [-0.09551185, -0.02062926,  0.03719765, ...,  0.02923832,\n",
      "         0.06513648,  0.11695329],\n",
      "       [ 0.05392846, -0.01575621, -0.01039585, ..., -0.01656838,\n",
      "         0.18761258,  0.12215122],\n",
      "       ...,\n",
      "       [-0.1123239 , -0.10282144,  0.02639571, ..., -0.04718741,\n",
      "        -0.20336878, -0.05701473],\n",
      "       [ 0.21766308,  0.06984711, -0.12889227, ...,  0.0841414 ,\n",
      "         0.09624282,  0.03630425],\n",
      "       [ 0.06261874,  0.00446697, -0.01689325, ..., -0.10274022,\n",
      "         0.01868004,  0.13985665]], dtype=float32), array([ 1,  1,  1, ..., 11, 11, 11])), '48DriveEndFault': (array([[-0.111192  , -0.08302892, -0.04234892, ...,  0.11786769,\n",
      "         0.07697908,  0.02190462],\n",
      "       [-0.03442154, -0.06154154, -0.05570031, ..., -0.24241108,\n",
      "        -0.23427507, -0.17982647],\n",
      "       [-0.09325108,  0.02357354,  0.15124616, ..., -0.16272   ,\n",
      "        -0.08219446,  0.03212677],\n",
      "       ...,\n",
      "       [-0.24873066, -0.53418666, -0.7979413 , ..., -0.02670933,\n",
      "         0.30632266,  0.62266135],\n",
      "       [ 0.71280533,  0.696112  ,  0.553384  , ...,  0.30715734,\n",
      "         0.38645068,  0.43402666],\n",
      "       [ 0.493288  ,  0.5917787 ,  0.678584  , ..., -0.23704533,\n",
      "        -0.09181333,  0.02587467]], dtype=float32), array([ 1,  1,  1, ..., 11, 11, 11])), 'Normal': (array([[ 0.05319692,  0.08866154,  0.09971815, ...,  0.10451631,\n",
      "         0.151872  ,  0.16021661],\n",
      "       [ 0.13476554,  0.08511508,  0.01502031, ...,  0.00020862,\n",
      "        -0.02190462, -0.07113785],\n",
      "       [-0.09554584, -0.09137354, -0.05653477, ...,  0.02774585,\n",
      "         0.02023569,  0.04234892],\n",
      "       ...,\n",
      "       [ 0.02273908, -0.00688431, -0.02273908, ...,  0.06905169,\n",
      "         0.02816308, -0.03045785],\n",
      "       [-0.03734215,  0.002712  ,  0.05131938, ...,  0.04985908,\n",
      "         0.00187754,  0.01919262],\n",
      "       [ 0.05444862,  0.08386339,  0.08657538, ...,  0.07510154,\n",
      "         0.09074769,  0.04985908]], dtype=float32), array([0, 0, 0, ..., 0, 0, 0]))}\n"
     ]
    }
   ],
   "source": [
    "with open('cwru_data.pkl', 'rb') as file:\n",
    "    # Deserialize the dictionary\n",
    "    loaded_dict = pickle.load(file)\n",
    "    print(loaded_dict)"
   ]
  }
 ],
 "metadata": {
  "kernelspec": {
   "display_name": "torch",
   "language": "python",
   "name": "python3"
  },
  "language_info": {
   "codemirror_mode": {
    "name": "ipython",
    "version": 3
   },
   "file_extension": ".py",
   "mimetype": "text/x-python",
   "name": "python",
   "nbconvert_exporter": "python",
   "pygments_lexer": "ipython3",
   "version": "3.9.19"
  }
 },
 "nbformat": 4,
 "nbformat_minor": 2
}
